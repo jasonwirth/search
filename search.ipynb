{
 "metadata": {
  "name": ""
 },
 "nbformat": 3,
 "nbformat_minor": 0,
 "worksheets": [
  {
   "cells": [
    {
     "cell_type": "markdown",
     "metadata": {},
     "source": [
      "# search  "
     ]
    },
    {
     "cell_type": "code",
     "collapsed": false,
     "input": [
      "slist = list(\"abcdefghijklmnopqrstuvwxyz\")"
     ],
     "language": "python",
     "metadata": {},
     "outputs": [],
     "prompt_number": 3
    },
    {
     "cell_type": "code",
     "collapsed": false,
     "input": [
      "slist.index('q')"
     ],
     "language": "python",
     "metadata": {},
     "outputs": [
      {
       "metadata": {},
       "output_type": "pyout",
       "prompt_number": 32,
       "text": [
        "16"
       ]
      }
     ],
     "prompt_number": 32
    },
    {
     "cell_type": "code",
     "collapsed": false,
     "input": [
      "def get_index(slist, item, count=None):\n",
      "    start, end = 0, len(slist)\n",
      "    i = 0\n",
      "    while True:\n",
      "        i += 1\n",
      "        midpoint = start + ((end - start) / 2)\n",
      "        if item == slist[midpoint]:\n",
      "            return midpoint\n",
      "        elif item < slist[midpoint]:\n",
      "            end = midpoint\n",
      "        else:\n",
      "            start = midpoint\n",
      "        if count:\n",
      "            print i\n",
      "            "
     ],
     "language": "python",
     "metadata": {},
     "outputs": [],
     "prompt_number": 58
    },
    {
     "cell_type": "code",
     "collapsed": false,
     "input": [
      "get_index(slist,'q', count=True)"
     ],
     "language": "python",
     "metadata": {},
     "outputs": [
      {
       "output_type": "stream",
       "stream": "stdout",
       "text": [
        "1\n",
        "2\n"
       ]
      },
      {
       "metadata": {},
       "output_type": "pyout",
       "prompt_number": 60,
       "text": [
        "16"
       ]
      }
     ],
     "prompt_number": 60
    },
    {
     "cell_type": "code",
     "collapsed": false,
     "input": [
      "%xmode verbose"
     ],
     "language": "python",
     "metadata": {},
     "outputs": [
      {
       "output_type": "stream",
       "stream": "stdout",
       "text": [
        "Exception reporting mode: Verbose\n"
       ]
      }
     ],
     "prompt_number": 54
    },
    {
     "cell_type": "code",
     "collapsed": false,
     "input": [
      "assert slist.index('d') == get_index(slist, 'd') \n",
      "\n",
      "print slist.index('d') \n",
      "print get_index(slist, 'd')"
     ],
     "language": "python",
     "metadata": {},
     "outputs": [
      {
       "output_type": "stream",
       "stream": "stdout",
       "text": [
        "3\n",
        "3\n"
       ]
      }
     ],
     "prompt_number": 55
    },
    {
     "cell_type": "code",
     "collapsed": false,
     "input": [
      "assert slist.index('q') == get_index(slist, 'q')\n",
      "\n",
      "print slist.index('q')\n",
      "print get_index(slist, 'q')"
     ],
     "language": "python",
     "metadata": {},
     "outputs": [
      {
       "output_type": "stream",
       "stream": "stdout",
       "text": [
        "16\n",
        "16\n"
       ]
      }
     ],
     "prompt_number": 56
    },
    {
     "cell_type": "code",
     "collapsed": false,
     "input": [
      "for item in slist:\n",
      "    built_in = slist.index(item)\n",
      "    my_func = get_index(slist, item)\n",
      "    print \"%s - %d, %d\" % (item, built_in, my_func)"
     ],
     "language": "python",
     "metadata": {},
     "outputs": [
      {
       "output_type": "stream",
       "stream": "stdout",
       "text": [
        "a - 0, 0\n",
        "b - 1, 1\n",
        "c - 2, 2\n",
        "d - 3, 3\n",
        "e - 4, 4\n",
        "f - 5, 5\n",
        "g - 6, 6\n",
        "h - 7, 7\n",
        "i - 8, 8\n",
        "j - 9, 9\n",
        "k - 10, 10\n",
        "l - 11, 11\n",
        "m - 12, 12\n",
        "n - 13, 13\n",
        "o - 14, 14\n",
        "p - 15, 15\n",
        "q - 16, 16\n",
        "r - 17, 17\n",
        "s - 18, 18\n",
        "t - 19, 19\n",
        "u - 20, 20\n",
        "v - 21, 21\n",
        "w - 22, 22\n",
        "x - 23, 23\n",
        "y - 24, 24\n",
        "z - 25, 25\n"
       ]
      }
     ],
     "prompt_number": 63
    },
    {
     "cell_type": "code",
     "collapsed": false,
     "input": [],
     "language": "python",
     "metadata": {},
     "outputs": []
    }
   ],
   "metadata": {}
  }
 ]
}
